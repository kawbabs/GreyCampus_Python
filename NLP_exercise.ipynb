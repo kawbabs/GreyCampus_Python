{
 "cells": [
  {
   "cell_type": "markdown",
   "id": "a0ba59e6",
   "metadata": {},
   "source": [
    "#### Problem Statement\n",
    "\n",
    "The goal of text classification is to automatically classify the text documents into one or more defined categories. \n",
    "\n",
    "- Clue: You could use KNN ML algorithm to solve. Also start with concepts of NLP, then extract features from text files, then find out TF-IDF and split for classification.\n",
    "\n",
    "- End result: You have to categorize news articles into defined topics. \n",
    "\n",
    "The dataset to be imported is fetch_20newsgroups of sklearn."
   ]
  },
  {
   "cell_type": "code",
   "execution_count": 2,
   "id": "50f7f192",
   "metadata": {},
   "outputs": [
    {
     "name": "stdout",
     "output_type": "stream",
     "text": [
      "Number of articles: 18846\n",
      "Number of categories:  20\n"
     ]
    }
   ],
   "source": [
    "from sklearn.datasets import fetch_20newsgroups\n",
    "news = fetch_20newsgroups(subset = 'all')\n",
    "print('Number of articles:', str(len(news.data)))\n",
    "print('Number of categories: ', str(len(news.target_names)))"
   ]
  },
  {
   "cell_type": "code",
   "execution_count": 3,
   "id": "1c58a21d",
   "metadata": {},
   "outputs": [
    {
     "data": {
      "text/plain": [
       "['alt.atheism',\n",
       " 'comp.graphics',\n",
       " 'comp.os.ms-windows.misc',\n",
       " 'comp.sys.ibm.pc.hardware',\n",
       " 'comp.sys.mac.hardware',\n",
       " 'comp.windows.x',\n",
       " 'misc.forsale',\n",
       " 'rec.autos',\n",
       " 'rec.motorcycles',\n",
       " 'rec.sport.baseball',\n",
       " 'rec.sport.hockey',\n",
       " 'sci.crypt',\n",
       " 'sci.electronics',\n",
       " 'sci.med',\n",
       " 'sci.space',\n",
       " 'soc.religion.christian',\n",
       " 'talk.politics.guns',\n",
       " 'talk.politics.mideast',\n",
       " 'talk.politics.misc',\n",
       " 'talk.religion.misc']"
      ]
     },
     "execution_count": 3,
     "metadata": {},
     "output_type": "execute_result"
    }
   ],
   "source": [
    "news.target_names"
   ]
  },
  {
   "cell_type": "markdown",
   "id": "97733303",
   "metadata": {},
   "source": [
    "As you can see, there are 18 846 newsgroup documents, distributed across 20 different newsgroups. \n",
    "\n",
    "Our goal is to create a classifier that will classify each document based on its content. \n",
    "\n",
    "Let’s see the content of one document:"
   ]
  },
  {
   "cell_type": "code",
   "execution_count": 4,
   "id": "0a0ee763",
   "metadata": {},
   "outputs": [
    {
     "name": "stdout",
     "output_type": "stream",
     "text": [
      "From: kozloce@wkuvx1.bitnet\n",
      "Subject: Re: Atlanta Hockey Hell!!DIR\n",
      "Organization: Western Kentucky University, Bowling Green, KY\n",
      "Lines: 18\n",
      "\n",
      "> Someone give SportChannel a call (or maybe Ted Turner).\n",
      "> Wasn't USA network covering the playoffs years ago?\n",
      "> \n",
      "> Jim G.\n",
      "\n",
      "Oh to be back in the good old days when I lived in Florida (Florida for\n",
      "Petes sake!!) and could watch hockey every night as ESPN and USA alternated\n",
      "coverage nights. Oh well I guess it would be too simple for the home office\n",
      "to look back into their past to solve a problem in the present...\n",
      "\n",
      "Of course I shouldn't complain. At least I'm getting to watch the playoffs\n",
      "for a change. (Hooray!!) Now if the ESPN schedulers will realise there are\n",
      "other teams except Pittsberg in the Patrick. (Sounds like a Dr Suess Book\n",
      "=)\n",
      "\n",
      "KOZ\n",
      "\n",
      "LETS GO CAPS!!\n",
      "\n"
     ]
    }
   ],
   "source": [
    "print('\\n'.join(news.data[1120].split('\\n')[:]))"
   ]
  },
  {
   "cell_type": "markdown",
   "id": "980d133b",
   "metadata": {},
   "source": [
    "##### Define training function\n",
    "\n",
    "create a function for training and in each attempt save results and accuracies. You can define it like this:"
   ]
  },
  {
   "cell_type": "code",
   "execution_count": 6,
   "id": "5a80d3bb",
   "metadata": {},
   "outputs": [],
   "source": [
    "from sklearn.model_selection import train_test_split\n",
    "import time\n",
    "\n",
    "def train(classifier, X, y):\n",
    "    start = time.time()\n",
    "    X_train, X_test, y_train, y_test = train_test_split(X, y, test_size=0.2, random_state=11)\n",
    "\n",
    "    classifier.fit(X_train, y_train)\n",
    "    end = time.time()\n",
    "\n",
    "    print(\"Accuracy: \" + str(classifier.score(X_test, y_test)) + \", Time duration: \" + str(end - start))\n",
    "    return classifier"
   ]
  },
  {
   "cell_type": "markdown",
   "id": "329926e2",
   "metadata": {},
   "source": [
    "###### Feature extraction\n",
    "\n",
    "extract features in order to train a model and build a classifier called the multinomial Naive Bayes classifier"
   ]
  },
  {
   "cell_type": "code",
   "execution_count": 7,
   "id": "08eeb3c7",
   "metadata": {},
   "outputs": [
    {
     "name": "stdout",
     "output_type": "stream",
     "text": [
      "Accuracy: 0.8538461538461538, Time duration: 6.888262033462524\n"
     ]
    },
    {
     "data": {
      "text/plain": [
       "Pipeline(steps=[('vectorizer', TfidfVectorizer()),\n",
       "                ('classifier', MultinomialNB())])"
      ]
     },
     "execution_count": 7,
     "metadata": {},
     "output_type": "execute_result"
    }
   ],
   "source": [
    "from sklearn.naive_bayes import MultinomialNB\n",
    "from sklearn.pipeline import Pipeline\n",
    "from sklearn.feature_extraction.text import TfidfVectorizer\n",
    "\n",
    "trial1 = Pipeline([ ('vectorizer', TfidfVectorizer()), ('classifier', MultinomialNB())])\n",
    "\n",
    "train(trial1, news.data, news.target)"
   ]
  },
  {
   "cell_type": "code",
   "execution_count": 9,
   "id": "1bf889b4",
   "metadata": {},
   "outputs": [
    {
     "name": "stderr",
     "output_type": "stream",
     "text": [
      "[nltk_data] Downloading package stopwords to\n",
      "[nltk_data]     C:\\Users\\kawba\\AppData\\Roaming\\nltk_data...\n",
      "[nltk_data]   Unzipping corpora\\stopwords.zip.\n"
     ]
    },
    {
     "name": "stdout",
     "output_type": "stream",
     "text": [
      "Accuracy: 0.8806366047745358, Time duration: 6.566385746002197\n"
     ]
    },
    {
     "data": {
      "text/plain": [
       "Pipeline(steps=[('vectorizer',\n",
       "                 TfidfVectorizer(stop_words=['i', 'me', 'my', 'myself', 'we',\n",
       "                                             'our', 'ours', 'ourselves', 'you',\n",
       "                                             \"you're\", \"you've\", \"you'll\",\n",
       "                                             \"you'd\", 'your', 'yours',\n",
       "                                             'yourself', 'yourselves', 'he',\n",
       "                                             'him', 'his', 'himself', 'she',\n",
       "                                             \"she's\", 'her', 'hers', 'herself',\n",
       "                                             'it', \"it's\", 'its', 'itself', ...])),\n",
       "                ('classifier', MultinomialNB())])"
      ]
     },
     "execution_count": 9,
     "metadata": {},
     "output_type": "execute_result"
    }
   ],
   "source": [
    "# lets scale the parameter by removing stop words\n",
    "import nltk\n",
    "nltk.download('stopwords')\n",
    "from nltk.corpus import stopwords\n",
    "\n",
    "trial2 = Pipeline([ ('vectorizer', TfidfVectorizer(stop_words=stopwords.words('english'))),('classifier', MultinomialNB())])\n",
    "\n",
    "train(trial2, news.data, news.target)"
   ]
  },
  {
   "cell_type": "markdown",
   "id": "7ba29c98",
   "metadata": {},
   "source": [
    "The alpha parameter of the Naive-Bayes classifier is still the default one, so let’s change its value and iterate through a range of values. Then we check if the accuracy improves"
   ]
  },
  {
   "cell_type": "code",
   "execution_count": 10,
   "id": "379dfa2b",
   "metadata": {},
   "outputs": [
    {
     "name": "stdout",
     "output_type": "stream",
     "text": [
      "Accuracy: 0.9169761273209549, Time duration: 6.791370868682861\n"
     ]
    },
    {
     "data": {
      "text/plain": [
       "Pipeline(steps=[('vectorizer',\n",
       "                 TfidfVectorizer(stop_words=['i', 'me', 'my', 'myself', 'we',\n",
       "                                             'our', 'ours', 'ourselves', 'you',\n",
       "                                             \"you're\", \"you've\", \"you'll\",\n",
       "                                             \"you'd\", 'your', 'yours',\n",
       "                                             'yourself', 'yourselves', 'he',\n",
       "                                             'him', 'his', 'himself', 'she',\n",
       "                                             \"she's\", 'her', 'hers', 'herself',\n",
       "                                             'it', \"it's\", 'its', 'itself', ...])),\n",
       "                ('classifier', MultinomialNB(alpha=0.0005))])"
      ]
     },
     "execution_count": 10,
     "metadata": {},
     "output_type": "execute_result"
    }
   ],
   "source": [
    "for alpha in [5, 0.5, 0.05, 0.005, 0.0005]:\n",
    "    trial3 = Pipeline([('vectorizer', TfidfVectorizer(stop_words=stopwords.words('english'))),('classifier', MultinomialNB(alpha=alpha))])\n",
    "\n",
    "train(trial3, news.data, news.target)\n"
   ]
  },
  {
   "cell_type": "markdown",
   "id": "ca5138bd",
   "metadata": {},
   "source": [
    "We can see that the best accuracy of 91.178% is achieved for alpha 0.005. we ignore the words that appear fewer than 5 times in all documents and use min_dif parameter:"
   ]
  },
  {
   "cell_type": "code",
   "execution_count": 11,
   "id": "ebcefef4",
   "metadata": {},
   "outputs": [
    {
     "name": "stdout",
     "output_type": "stream",
     "text": [
      "Accuracy: 0.910079575596817, Time duration: 6.014195680618286\n"
     ]
    },
    {
     "data": {
      "text/plain": [
       "Pipeline(steps=[('vectorizer',\n",
       "                 TfidfVectorizer(min_df=5,\n",
       "                                 stop_words=['i', 'me', 'my', 'myself', 'we',\n",
       "                                             'our', 'ours', 'ourselves', 'you',\n",
       "                                             \"you're\", \"you've\", \"you'll\",\n",
       "                                             \"you'd\", 'your', 'yours',\n",
       "                                             'yourself', 'yourselves', 'he',\n",
       "                                             'him', 'his', 'himself', 'she',\n",
       "                                             \"she's\", 'her', 'hers', 'herself',\n",
       "                                             'it', \"it's\", 'its', 'itself', ...])),\n",
       "                ('classifier', MultinomialNB(alpha=0.005))])"
      ]
     },
     "execution_count": 11,
     "metadata": {},
     "output_type": "execute_result"
    }
   ],
   "source": [
    "trial4 = Pipeline([ ('vectorizer', TfidfVectorizer(stop_words=stopwords.words('english'), min_df=5)), ('classifier', MultinomialNB(alpha=0.005)) ])\n",
    "\n",
    "train(trial4, news.data, news.target)"
   ]
  },
  {
   "cell_type": "markdown",
   "id": "f51f3296",
   "metadata": {},
   "source": [
    "Resulting accuracy is a bit lower, so this was a bad idea. We can try and stem the data with nltk"
   ]
  },
  {
   "cell_type": "code",
   "execution_count": 12,
   "id": "618bf9c1",
   "metadata": {},
   "outputs": [
    {
     "name": "stderr",
     "output_type": "stream",
     "text": [
      "C:\\Users\\kawba\\anaconda3\\lib\\site-packages\\sklearn\\feature_extraction\\text.py:388: UserWarning: Your stop_words may be inconsistent with your preprocessing. Tokenizing the stop words generated tokens [\"'d\", \"'ll\", \"'re\", \"'s\", \"'ve\", '``', 'abov', 'ani', 'becaus', 'befor', 'could', 'doe', 'dure', 'ha', 'hi', 'might', 'must', \"n't\", 'need', 'onc', 'onli', 'ourselv', 'sha', 'themselv', 'thi', 'veri', 'wa', 'whi', 'wo', 'would', 'yourselv'] not in stop_words.\n",
      "  warnings.warn('Your stop_words may be inconsistent with '\n"
     ]
    },
    {
     "name": "stdout",
     "output_type": "stream",
     "text": [
      "Accuracy: 0.9228116710875331, Time duration: 115.5232937335968\n"
     ]
    },
    {
     "data": {
      "text/plain": [
       "Pipeline(steps=[('vectorizer',\n",
       "                 TfidfVectorizer(stop_words=['i', 'me', 'my', 'myself', 'we',\n",
       "                                             'our', 'ours', 'ourselves', 'you',\n",
       "                                             \"you're\", \"you've\", \"you'll\",\n",
       "                                             \"you'd\", 'your', 'yours',\n",
       "                                             'yourself', 'yourselves', 'he',\n",
       "                                             'him', 'his', 'himself', 'she',\n",
       "                                             \"she's\", 'her', 'hers', 'herself',\n",
       "                                             'it', \"it's\", 'its', 'itself', ...],\n",
       "                                 tokenizer=<function stemming_tokenizer at 0x000001EB14A8A160>)),\n",
       "                ('classifier', MultinomialNB(alpha=0.005))])"
      ]
     },
     "execution_count": 12,
     "metadata": {},
     "output_type": "execute_result"
    }
   ],
   "source": [
    "import string\n",
    "from nltk.stem import PorterStemmer\n",
    "from nltk import word_tokenize\n",
    "\n",
    "def stemming_tokenizer(text):\n",
    "    stemmer = PorterStemmer()\n",
    "    return [stemmer.stem(w) for w in word_tokenize(text)]\n",
    "\n",
    "trial5 = Pipeline([ ('vectorizer', TfidfVectorizer(tokenizer=stemming_tokenizer, stop_words=stopwords.words('english') + list(string.punctuation))), ('classifier', MultinomialNB(alpha=0.005))])\n",
    "\n",
    "train(trial5, news.data, news.target)"
   ]
  },
  {
   "cell_type": "code",
   "execution_count": 14,
   "id": "1df75792",
   "metadata": {},
   "outputs": [
    {
     "name": "stdout",
     "output_type": "stream",
     "text": [
      "Accuracy: 0.9320954907161804, Time duration: 10.232603549957275\n"
     ]
    },
    {
     "data": {
      "text/plain": [
       "Pipeline(steps=[('vectorizer',\n",
       "                 TfidfVectorizer(stop_words=['i', 'me', 'my', 'myself', 'we',\n",
       "                                             'our', 'ours', 'ourselves', 'you',\n",
       "                                             \"you're\", \"you've\", \"you'll\",\n",
       "                                             \"you'd\", 'your', 'yours',\n",
       "                                             'yourself', 'yourselves', 'he',\n",
       "                                             'him', 'his', 'himself', 'she',\n",
       "                                             \"she's\", 'her', 'hers', 'herself',\n",
       "                                             'it', \"it's\", 'its', 'itself', ...])),\n",
       "                ('classifier', LinearSVC())])"
      ]
     },
     "execution_count": 14,
     "metadata": {},
     "output_type": "execute_result"
    }
   ],
   "source": [
    "#a diffferent model\n",
    "from sklearn.linear_model import SGDClassifier\n",
    "from sklearn.svm import LinearSVC\n",
    "\n",
    "for classifier in [SGDClassifier(), LinearSVC()]:\n",
    "    trial6 = Pipeline([('vectorizer', TfidfVectorizer(stop_words=stopwords.words('english') + list(string.punctuation))), ('classifier', classifier)])\n",
    "\n",
    "train(trial6, news.data, news.target)"
   ]
  },
  {
   "cell_type": "markdown",
   "id": "7761ab25",
   "metadata": {},
   "source": [
    "##### Model evaluation"
   ]
  },
  {
   "cell_type": "code",
   "execution_count": 22,
   "id": "710ed8ff",
   "metadata": {},
   "outputs": [
    {
     "name": "stdout",
     "output_type": "stream",
     "text": [
      "Accuracy: 0.9352785145888595, Time duration: 18.60562515258789\n"
     ]
    },
    {
     "data": {
      "image/png": "[encoded data removed]",
      "text/plain": [
       "<Figure size 1080x720 with 2 Axes>"
      ]
     },
     "metadata": {
      "needs_background": "light"
     },
     "output_type": "display_data"
    }
   ],
   "source": [
    "from sklearn.metrics import confusion_matrix\n",
    "import matplotlib.pyplot as plt\n",
    "import seaborn as sns\n",
    "\n",
    "start = time.time()\n",
    "classifier = Pipeline([('vectorizer', TfidfVectorizer(stop_words=stopwords.words('english') + list(string.punctuation))),('classifier', LinearSVC(C=10))])\n",
    "X_train, X_test, y_train, y_test = train_test_split(news.data, news.target, test_size=0.2, random_state=11)\n",
    "classifier.fit(X_train, y_train)\n",
    "end = time.time()\n",
    "\n",
    "print(\"Accuracy: \" + str(classifier.score(X_test, y_test)) + \", Time duration: \" + str(end - start))\n",
    "\n",
    "y_pred = classifier.predict(X_test)\n",
    "conf_mat = confusion_matrix(y_test, y_pred)\n",
    "\n",
    "labels = news.target_names\n",
    "# Plot confusion_matrix\n",
    "fig, ax = plt.subplots(figsize=(15, 10))\n",
    "sns.heatmap(conf_mat, annot=True, cmap = \"Set3\", fmt =\"d\",xticklabels=labels, yticklabels=labels)\n",
    "plt.ylabel('Actual')\n",
    "plt.xlabel('Predicted')\n",
    "plt.show()"
   ]
  },
  {
   "cell_type": "code",
   "execution_count": 23,
   "id": "f0c15e65",
   "metadata": {},
   "outputs": [
    {
     "name": "stdout",
     "output_type": "stream",
     "text": [
      "                          precision    recall  f1-score   support\n",
      "\n",
      "             alt.atheism       0.96      0.95      0.96       172\n",
      "           comp.graphics       0.86      0.91      0.88       184\n",
      " comp.os.ms-windows.misc       0.92      0.85      0.89       204\n",
      "comp.sys.ibm.pc.hardware       0.83      0.87      0.85       195\n",
      "   comp.sys.mac.hardware       0.93      0.92      0.93       195\n",
      "          comp.windows.x       0.93      0.87      0.90       204\n",
      "            misc.forsale       0.85      0.88      0.86       164\n",
      "               rec.autos       0.93      0.94      0.93       180\n",
      "         rec.motorcycles       0.97      0.97      0.97       173\n",
      "      rec.sport.baseball       0.97      0.97      0.97       217\n",
      "        rec.sport.hockey       0.97      0.99      0.98       178\n",
      "               sci.crypt       0.95      0.98      0.96       197\n",
      "         sci.electronics       0.93      0.93      0.93       199\n",
      "                 sci.med       0.94      0.99      0.97       183\n",
      "               sci.space       0.96      0.99      0.97       207\n",
      "  soc.religion.christian       0.94      0.96      0.95       211\n",
      "      talk.politics.guns       0.97      0.96      0.96       208\n",
      "   talk.politics.mideast       0.99      0.99      0.99       200\n",
      "      talk.politics.misc       0.96      0.93      0.94       175\n",
      "      talk.religion.misc       0.94      0.83      0.88       124\n",
      "\n",
      "                accuracy                           0.94      3770\n",
      "               macro avg       0.94      0.93      0.93      3770\n",
      "            weighted avg       0.94      0.94      0.94      3770\n",
      "\n"
     ]
    }
   ],
   "source": [
    "from sklearn import metrics\n",
    "print(metrics.classification_report(y_test, y_pred, target_names=labels))"
   ]
  },
  {
   "cell_type": "markdown",
   "id": "9068c038",
   "metadata": {},
   "source": [
    "REF: https://krakensystems.co/blog/2018/text-classification"
   ]
  },
  {
   "cell_type": "code",
   "execution_count": null,
   "id": "36da0d6c",
   "metadata": {},
   "outputs": [],
   "source": []
  }
 ],
 "metadata": {
  "kernelspec": {
   "display_name": "Python 3",
   "language": "python",
   "name": "python3"
  },
  "language_info": {
   "codemirror_mode": {
    "name": "ipython",
    "version": 3
   },
   "file_extension": ".py",
   "mimetype": "text/x-python",
   "name": "python",
   "nbconvert_exporter": "python",
   "pygments_lexer": "ipython3",
   "version": "3.8.8"
  }
 },
 "nbformat": 4,
 "nbformat_minor": 5
}
