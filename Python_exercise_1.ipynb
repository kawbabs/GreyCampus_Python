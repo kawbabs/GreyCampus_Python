{
 "cells": [
  {
   "cell_type": "code",
   "execution_count": 3,
   "metadata": {},
   "outputs": [],
   "source": [
    "def mult_table(y):\n",
    "    for x in range (1, 10):\n",
    "        print(y, ' x ', x, '= ',y*x)"
   ]
  },
  {
   "cell_type": "code",
   "execution_count": 4,
   "metadata": {},
   "outputs": [
    {
     "name": "stdout",
     "output_type": "stream",
     "text": [
      "2  x  1 =  2\n",
      "2  x  2 =  4\n",
      "2  x  3 =  6\n",
      "2  x  4 =  8\n",
      "2  x  5 =  10\n",
      "2  x  6 =  12\n",
      "2  x  7 =  14\n",
      "2  x  8 =  16\n",
      "2  x  9 =  18\n"
     ]
    }
   ],
   "source": [
    "mult_table(2)"
   ]
  },
  {
   "cell_type": "code",
   "execution_count": 5,
   "metadata": {},
   "outputs": [
    {
     "name": "stdout",
     "output_type": "stream",
     "text": [
      "5  x  1 =  5\n",
      "5  x  2 =  10\n",
      "5  x  3 =  15\n",
      "5  x  4 =  20\n",
      "5  x  5 =  25\n",
      "5  x  6 =  30\n",
      "5  x  7 =  35\n",
      "5  x  8 =  40\n",
      "5  x  9 =  45\n"
     ]
    }
   ],
   "source": [
    "mult_table(5)"
   ]
  },
  {
   "cell_type": "code",
   "execution_count": 42,
   "metadata": {},
   "outputs": [],
   "source": [
    "def is_prime(y):\n",
    "    for x in range(2, y):\n",
    "        if (y%x)==0:\n",
    "            print(y, 'is not prime number')\n",
    "            break\n",
    "    else:\n",
    "        print(y, 'is a prime number')\n",
    "       "
   ]
  },
  {
   "cell_type": "code",
   "execution_count": 43,
   "metadata": {},
   "outputs": [
    {
     "name": "stdout",
     "output_type": "stream",
     "text": [
      "15 is not prime number\n"
     ]
    }
   ],
   "source": [
    "is_prime(15)"
   ]
  },
  {
   "cell_type": "code",
   "execution_count": null,
   "metadata": {},
   "outputs": [],
   "source": []
  }
 ],
 "metadata": {
  "kernelspec": {
   "display_name": "Python 3",
   "language": "python",
   "name": "python3"
  },
  "language_info": {
   "codemirror_mode": {
    "name": "ipython",
    "version": 3
   },
   "file_extension": ".py",
   "mimetype": "text/x-python",
   "name": "python",
   "nbconvert_exporter": "python",
   "pygments_lexer": "ipython3",
   "version": "3.8.3"
  }
 },
 "nbformat": 4,
 "nbformat_minor": 4
}
