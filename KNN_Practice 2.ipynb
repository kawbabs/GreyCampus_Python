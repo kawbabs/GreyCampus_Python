{
 "cells": [
  {
   "cell_type": "code",
   "execution_count": 1,
   "id": "a1c56653",
   "metadata": {},
   "outputs": [],
   "source": [
    "import numpy as np\n",
    "import pandas as pd\n",
    "import matplotlib.pyplot as plt\n",
    "import seaborn as sns\n",
    "%matplotlib inline"
   ]
  },
  {
   "cell_type": "code",
   "execution_count": 9,
   "id": "93cb8b53",
   "metadata": {},
   "outputs": [
    {
     "data": {
      "text/html": [
       "<div>\n",
       "<style scoped>\n",
       "    .dataframe tbody tr th:only-of-type {\n",
       "        vertical-align: middle;\n",
       "    }\n",
       "\n",
       "    .dataframe tbody tr th {\n",
       "        vertical-align: top;\n",
       "    }\n",
       "\n",
       "    .dataframe thead th {\n",
       "        text-align: right;\n",
       "    }\n",
       "</style>\n",
       "<table border=\"1\" class=\"dataframe\">\n",
       "  <thead>\n",
       "    <tr style=\"text-align: right;\">\n",
       "      <th></th>\n",
       "      <th>CustomerID</th>\n",
       "      <th>Genre</th>\n",
       "      <th>Age</th>\n",
       "      <th>Annual_Income_(k$)</th>\n",
       "      <th>Spending_Score</th>\n",
       "    </tr>\n",
       "  </thead>\n",
       "  <tbody>\n",
       "    <tr>\n",
       "      <th>0</th>\n",
       "      <td>1</td>\n",
       "      <td>Male</td>\n",
       "      <td>19</td>\n",
       "      <td>15</td>\n",
       "      <td>39</td>\n",
       "    </tr>\n",
       "    <tr>\n",
       "      <th>1</th>\n",
       "      <td>2</td>\n",
       "      <td>Male</td>\n",
       "      <td>21</td>\n",
       "      <td>15</td>\n",
       "      <td>81</td>\n",
       "    </tr>\n",
       "    <tr>\n",
       "      <th>2</th>\n",
       "      <td>3</td>\n",
       "      <td>Female</td>\n",
       "      <td>20</td>\n",
       "      <td>16</td>\n",
       "      <td>6</td>\n",
       "    </tr>\n",
       "    <tr>\n",
       "      <th>3</th>\n",
       "      <td>4</td>\n",
       "      <td>Female</td>\n",
       "      <td>23</td>\n",
       "      <td>16</td>\n",
       "      <td>77</td>\n",
       "    </tr>\n",
       "    <tr>\n",
       "      <th>4</th>\n",
       "      <td>5</td>\n",
       "      <td>Female</td>\n",
       "      <td>31</td>\n",
       "      <td>17</td>\n",
       "      <td>40</td>\n",
       "    </tr>\n",
       "  </tbody>\n",
       "</table>\n",
       "</div>"
      ],
      "text/plain": [
       "   CustomerID   Genre  Age  Annual_Income_(k$)  Spending_Score\n",
       "0           1    Male   19                  15              39\n",
       "1           2    Male   21                  15              81\n",
       "2           3  Female   20                  16               6\n",
       "3           4  Female   23                  16              77\n",
       "4           5  Female   31                  17              40"
      ]
     },
     "execution_count": 9,
     "metadata": {},
     "output_type": "execute_result"
    }
   ],
   "source": [
    "df = pd.read_csv('Mall_customers.csv')\n",
    "df.head()"
   ]
  },
  {
   "cell_type": "code",
   "execution_count": 10,
   "id": "8223117f",
   "metadata": {},
   "outputs": [
    {
     "name": "stdout",
     "output_type": "stream",
     "text": [
      "<class 'pandas.core.frame.DataFrame'>\n",
      "RangeIndex: 200 entries, 0 to 199\n",
      "Data columns (total 5 columns):\n",
      " #   Column              Non-Null Count  Dtype \n",
      "---  ------              --------------  ----- \n",
      " 0   CustomerID          200 non-null    int64 \n",
      " 1   Genre               200 non-null    object\n",
      " 2   Age                 200 non-null    int64 \n",
      " 3   Annual_Income_(k$)  200 non-null    int64 \n",
      " 4   Spending_Score      200 non-null    int64 \n",
      "dtypes: int64(4), object(1)\n",
      "memory usage: 7.9+ KB\n"
     ]
    }
   ],
   "source": [
    "df.info()"
   ]
  },
  {
   "cell_type": "code",
   "execution_count": 12,
   "id": "7b482681",
   "metadata": {},
   "outputs": [
    {
     "data": {
      "text/plain": [
       "<matplotlib.collections.PathCollection at 0x226c7799c40>"
      ]
     },
     "execution_count": 12,
     "metadata": {},
     "output_type": "execute_result"
    },
    {
     "data": {
      "image/png": "[encoded data removed]",
      "text/plain": [
       "<Figure size 432x288 with 1 Axes>"
      ]
     },
     "metadata": {
      "needs_background": "light"
     },
     "output_type": "display_data"
    }
   ],
   "source": [
    "plt.scatter(df['Age'], df['Spending_Score'])"
   ]
  },
  {
   "cell_type": "code",
   "execution_count": 14,
   "id": "7bbd3463",
   "metadata": {},
   "outputs": [],
   "source": [
    "X = df.iloc[:, [2,4]].values"
   ]
  },
  {
   "cell_type": "code",
   "execution_count": 15,
   "id": "ee27bf0c",
   "metadata": {},
   "outputs": [
    {
     "data": {
      "text/plain": [
       "array([[19, 39],\n",
       "       [21, 81],\n",
       "       [20,  6],\n",
       "       [23, 77],\n",
       "       [31, 40],\n",
       "       [22, 76],\n",
       "       [35,  6],\n",
       "       [23, 94],\n",
       "       [64,  3],\n",
       "       [30, 72],\n",
       "       [67, 14],\n",
       "       [35, 99],\n",
       "       [58, 15],\n",
       "       [24, 77],\n",
       "       [37, 13],\n",
       "       [22, 79],\n",
       "       [35, 35],\n",
       "       [20, 66],\n",
       "       [52, 29],\n",
       "       [35, 98],\n",
       "       [35, 35],\n",
       "       [25, 73],\n",
       "       [46,  5],\n",
       "       [31, 73],\n",
       "       [54, 14],\n",
       "       [29, 82],\n",
       "       [45, 32],\n",
       "       [35, 61],\n",
       "       [40, 31],\n",
       "       [23, 87],\n",
       "       [60,  4],\n",
       "       [21, 73],\n",
       "       [53,  4],\n",
       "       [18, 92],\n",
       "       [49, 14],\n",
       "       [21, 81],\n",
       "       [42, 17],\n",
       "       [30, 73],\n",
       "       [36, 26],\n",
       "       [20, 75],\n",
       "       [65, 35],\n",
       "       [24, 92],\n",
       "       [48, 36],\n",
       "       [31, 61],\n",
       "       [49, 28],\n",
       "       [24, 65],\n",
       "       [50, 55],\n",
       "       [27, 47],\n",
       "       [29, 42],\n",
       "       [31, 42],\n",
       "       [49, 52],\n",
       "       [33, 60],\n",
       "       [31, 54],\n",
       "       [59, 60],\n",
       "       [50, 45],\n",
       "       [47, 41],\n",
       "       [51, 50],\n",
       "       [69, 46],\n",
       "       [27, 51],\n",
       "       [53, 46],\n",
       "       [70, 56],\n",
       "       [19, 55],\n",
       "       [67, 52],\n",
       "       [54, 59],\n",
       "       [63, 51],\n",
       "       [18, 59],\n",
       "       [43, 50],\n",
       "       [68, 48],\n",
       "       [19, 59],\n",
       "       [32, 47],\n",
       "       [70, 55],\n",
       "       [47, 42],\n",
       "       [60, 49],\n",
       "       [60, 56],\n",
       "       [59, 47],\n",
       "       [26, 54],\n",
       "       [45, 53],\n",
       "       [40, 48],\n",
       "       [23, 52],\n",
       "       [49, 42],\n",
       "       [57, 51],\n",
       "       [38, 55],\n",
       "       [67, 41],\n",
       "       [46, 44],\n",
       "       [21, 57],\n",
       "       [48, 46],\n",
       "       [55, 58],\n",
       "       [22, 55],\n",
       "       [34, 60],\n",
       "       [50, 46],\n",
       "       [68, 55],\n",
       "       [18, 41],\n",
       "       [48, 49],\n",
       "       [40, 40],\n",
       "       [32, 42],\n",
       "       [24, 52],\n",
       "       [47, 47],\n",
       "       [27, 50],\n",
       "       [48, 42],\n",
       "       [20, 49],\n",
       "       [23, 41],\n",
       "       [49, 48],\n",
       "       [67, 59],\n",
       "       [26, 55],\n",
       "       [49, 56],\n",
       "       [21, 42],\n",
       "       [66, 50],\n",
       "       [54, 46],\n",
       "       [68, 43],\n",
       "       [66, 48],\n",
       "       [65, 52],\n",
       "       [19, 54],\n",
       "       [38, 42],\n",
       "       [19, 46],\n",
       "       [18, 48],\n",
       "       [19, 50],\n",
       "       [63, 43],\n",
       "       [49, 59],\n",
       "       [51, 43],\n",
       "       [50, 57],\n",
       "       [27, 56],\n",
       "       [38, 40],\n",
       "       [40, 58],\n",
       "       [39, 91],\n",
       "       [23, 29],\n",
       "       [31, 77],\n",
       "       [43, 35],\n",
       "       [40, 95],\n",
       "       [59, 11],\n",
       "       [38, 75],\n",
       "       [47,  9],\n",
       "       [39, 75],\n",
       "       [25, 34],\n",
       "       [31, 71],\n",
       "       [20,  5],\n",
       "       [29, 88],\n",
       "       [44,  7],\n",
       "       [32, 73],\n",
       "       [19, 10],\n",
       "       [35, 72],\n",
       "       [57,  5],\n",
       "       [32, 93],\n",
       "       [28, 40],\n",
       "       [32, 87],\n",
       "       [25, 12],\n",
       "       [28, 97],\n",
       "       [48, 36],\n",
       "       [32, 74],\n",
       "       [34, 22],\n",
       "       [34, 90],\n",
       "       [43, 17],\n",
       "       [39, 88],\n",
       "       [44, 20],\n",
       "       [38, 76],\n",
       "       [47, 16],\n",
       "       [27, 89],\n",
       "       [37,  1],\n",
       "       [30, 78],\n",
       "       [34,  1],\n",
       "       [30, 73],\n",
       "       [56, 35],\n",
       "       [29, 83],\n",
       "       [19,  5],\n",
       "       [31, 93],\n",
       "       [50, 26],\n",
       "       [36, 75],\n",
       "       [42, 20],\n",
       "       [33, 95],\n",
       "       [36, 27],\n",
       "       [32, 63],\n",
       "       [40, 13],\n",
       "       [28, 75],\n",
       "       [36, 10],\n",
       "       [36, 92],\n",
       "       [52, 13],\n",
       "       [30, 86],\n",
       "       [58, 15],\n",
       "       [27, 69],\n",
       "       [59, 14],\n",
       "       [35, 90],\n",
       "       [37, 32],\n",
       "       [32, 86],\n",
       "       [46, 15],\n",
       "       [29, 88],\n",
       "       [41, 39],\n",
       "       [30, 97],\n",
       "       [54, 24],\n",
       "       [28, 68],\n",
       "       [41, 17],\n",
       "       [36, 85],\n",
       "       [34, 23],\n",
       "       [32, 69],\n",
       "       [33,  8],\n",
       "       [38, 91],\n",
       "       [47, 16],\n",
       "       [35, 79],\n",
       "       [45, 28],\n",
       "       [32, 74],\n",
       "       [32, 18],\n",
       "       [30, 83]], dtype=int64)"
      ]
     },
     "execution_count": 15,
     "metadata": {},
     "output_type": "execute_result"
    }
   ],
   "source": [
    "X"
   ]
  },
  {
   "cell_type": "code",
   "execution_count": 19,
   "id": "ee421ae8",
   "metadata": {},
   "outputs": [
    {
     "name": "stderr",
     "output_type": "stream",
     "text": [
      "C:\\Users\\kawba\\anaconda3\\lib\\site-packages\\sklearn\\cluster\\_kmeans.py:881: UserWarning: KMeans is known to have a memory leak on Windows with MKL, when there are less chunks than available threads. You can avoid it by setting the environment variable OMP_NUM_THREADS=1.\n",
      "  warnings.warn(\n"
     ]
    }
   ],
   "source": [
    "from sklearn.cluster import KMeans\n",
    "elbows = []\n",
    "for i in range (1, 20):\n",
    "    kmeans = KMeans(n_clusters = i, init = 'k-means++', random_state = 10)\n",
    "    kmeans.fit(X)\n",
    "    elbows.append(kmeans.inertia_)"
   ]
  },
  {
   "cell_type": "code",
   "execution_count": 24,
   "id": "a6ace86f",
   "metadata": {},
   "outputs": [
    {
     "data": {
      "image/png": "[encoded data removed]",
      "text/plain": [
       "<Figure size 432x288 with 1 Axes>"
      ]
     },
     "metadata": {
      "needs_background": "light"
     },
     "output_type": "display_data"
    }
   ],
   "source": [
    "sns.lineplot(range(1,20), elbows, color = 'grey')\n",
    "plt.rcParams.update({'figure.figsize':(10,7.5), 'figure.dpi':100})\n",
    "plt.title('ELBOW METHOD')\n",
    "plt.show()"
   ]
  },
  {
   "cell_type": "markdown",
   "id": "c46927cf",
   "metadata": {},
   "source": [
    "Elbow is at 5"
   ]
  },
  {
   "cell_type": "code",
   "execution_count": 25,
   "id": "44cc0018",
   "metadata": {},
   "outputs": [
    {
     "data": {
      "text/plain": [
       "KMeans(n_clusters=5, random_state=101)"
      ]
     },
     "execution_count": 25,
     "metadata": {},
     "output_type": "execute_result"
    }
   ],
   "source": [
    "model = KMeans(n_clusters = 5, init= 'k-means++', random_state = 101)\n",
    "model.fit(X)"
   ]
  },
  {
   "cell_type": "code",
   "execution_count": 26,
   "id": "735ee15c",
   "metadata": {},
   "outputs": [],
   "source": [
    "y_pred = model.fit_predict(X)"
   ]
  },
  {
   "cell_type": "code",
   "execution_count": 28,
   "id": "6c939f96",
   "metadata": {},
   "outputs": [
    {
     "data": {
      "text/plain": [
       "array([0, 4, 3, 4, 0, 4, 3, 4, 2, 4, 2, 4, 2, 4, 3, 4, 0, 0, 2, 4, 0, 4,\n",
       "       2, 4, 2, 4, 2, 0, 3, 4, 2, 4, 2, 4, 2, 4, 2, 4, 3, 4, 1, 4, 1, 0,\n",
       "       2, 0, 1, 0, 0, 0, 1, 0, 0, 1, 1, 1, 1, 1, 0, 1, 1, 0, 1, 1, 1, 0,\n",
       "       1, 1, 0, 0, 1, 1, 1, 1, 1, 0, 1, 0, 0, 1, 1, 0, 1, 1, 0, 1, 1, 0,\n",
       "       0, 1, 1, 0, 1, 0, 0, 0, 1, 0, 1, 0, 0, 1, 1, 0, 1, 0, 1, 1, 1, 1,\n",
       "       1, 0, 0, 0, 0, 0, 1, 1, 1, 1, 0, 0, 0, 4, 3, 4, 1, 4, 2, 4, 2, 4,\n",
       "       0, 4, 3, 4, 2, 4, 3, 4, 2, 4, 0, 4, 3, 4, 1, 4, 3, 4, 2, 4, 2, 4,\n",
       "       2, 4, 3, 4, 3, 4, 1, 4, 3, 4, 2, 4, 2, 4, 3, 0, 3, 4, 3, 4, 2, 4,\n",
       "       2, 4, 2, 4, 3, 4, 2, 4, 1, 4, 2, 4, 3, 4, 3, 4, 3, 4, 2, 4, 2, 4,\n",
       "       3, 4])"
      ]
     },
     "execution_count": 28,
     "metadata": {},
     "output_type": "execute_result"
    }
   ],
   "source": [
    "y_pred"
   ]
  },
  {
   "cell_type": "code",
   "execution_count": 30,
   "id": "0f4e6308",
   "metadata": {},
   "outputs": [
    {
     "data": {
      "text/html": [
       "<div>\n",
       "<style scoped>\n",
       "    .dataframe tbody tr th:only-of-type {\n",
       "        vertical-align: middle;\n",
       "    }\n",
       "\n",
       "    .dataframe tbody tr th {\n",
       "        vertical-align: top;\n",
       "    }\n",
       "\n",
       "    .dataframe thead th {\n",
       "        text-align: right;\n",
       "    }\n",
       "</style>\n",
       "<table border=\"1\" class=\"dataframe\">\n",
       "  <thead>\n",
       "    <tr style=\"text-align: right;\">\n",
       "      <th></th>\n",
       "      <th>CustomerID</th>\n",
       "      <th>Genre</th>\n",
       "      <th>Age</th>\n",
       "      <th>Annual_Income_(k$)</th>\n",
       "      <th>Spending_Score</th>\n",
       "      <th>clusters</th>\n",
       "    </tr>\n",
       "  </thead>\n",
       "  <tbody>\n",
       "    <tr>\n",
       "      <th>0</th>\n",
       "      <td>1</td>\n",
       "      <td>Male</td>\n",
       "      <td>19</td>\n",
       "      <td>15</td>\n",
       "      <td>39</td>\n",
       "      <td>0</td>\n",
       "    </tr>\n",
       "    <tr>\n",
       "      <th>1</th>\n",
       "      <td>2</td>\n",
       "      <td>Male</td>\n",
       "      <td>21</td>\n",
       "      <td>15</td>\n",
       "      <td>81</td>\n",
       "      <td>4</td>\n",
       "    </tr>\n",
       "    <tr>\n",
       "      <th>2</th>\n",
       "      <td>3</td>\n",
       "      <td>Female</td>\n",
       "      <td>20</td>\n",
       "      <td>16</td>\n",
       "      <td>6</td>\n",
       "      <td>3</td>\n",
       "    </tr>\n",
       "    <tr>\n",
       "      <th>3</th>\n",
       "      <td>4</td>\n",
       "      <td>Female</td>\n",
       "      <td>23</td>\n",
       "      <td>16</td>\n",
       "      <td>77</td>\n",
       "      <td>4</td>\n",
       "    </tr>\n",
       "    <tr>\n",
       "      <th>4</th>\n",
       "      <td>5</td>\n",
       "      <td>Female</td>\n",
       "      <td>31</td>\n",
       "      <td>17</td>\n",
       "      <td>40</td>\n",
       "      <td>0</td>\n",
       "    </tr>\n",
       "    <tr>\n",
       "      <th>...</th>\n",
       "      <td>...</td>\n",
       "      <td>...</td>\n",
       "      <td>...</td>\n",
       "      <td>...</td>\n",
       "      <td>...</td>\n",
       "      <td>...</td>\n",
       "    </tr>\n",
       "    <tr>\n",
       "      <th>195</th>\n",
       "      <td>196</td>\n",
       "      <td>Female</td>\n",
       "      <td>35</td>\n",
       "      <td>120</td>\n",
       "      <td>79</td>\n",
       "      <td>4</td>\n",
       "    </tr>\n",
       "    <tr>\n",
       "      <th>196</th>\n",
       "      <td>197</td>\n",
       "      <td>Female</td>\n",
       "      <td>45</td>\n",
       "      <td>126</td>\n",
       "      <td>28</td>\n",
       "      <td>2</td>\n",
       "    </tr>\n",
       "    <tr>\n",
       "      <th>197</th>\n",
       "      <td>198</td>\n",
       "      <td>Male</td>\n",
       "      <td>32</td>\n",
       "      <td>126</td>\n",
       "      <td>74</td>\n",
       "      <td>4</td>\n",
       "    </tr>\n",
       "    <tr>\n",
       "      <th>198</th>\n",
       "      <td>199</td>\n",
       "      <td>Male</td>\n",
       "      <td>32</td>\n",
       "      <td>137</td>\n",
       "      <td>18</td>\n",
       "      <td>3</td>\n",
       "    </tr>\n",
       "    <tr>\n",
       "      <th>199</th>\n",
       "      <td>200</td>\n",
       "      <td>Male</td>\n",
       "      <td>30</td>\n",
       "      <td>137</td>\n",
       "      <td>83</td>\n",
       "      <td>4</td>\n",
       "    </tr>\n",
       "  </tbody>\n",
       "</table>\n",
       "<p>200 rows × 6 columns</p>\n",
       "</div>"
      ],
      "text/plain": [
       "     CustomerID   Genre  Age  Annual_Income_(k$)  Spending_Score  clusters\n",
       "0             1    Male   19                  15              39         0\n",
       "1             2    Male   21                  15              81         4\n",
       "2             3  Female   20                  16               6         3\n",
       "3             4  Female   23                  16              77         4\n",
       "4             5  Female   31                  17              40         0\n",
       "..          ...     ...  ...                 ...             ...       ...\n",
       "195         196  Female   35                 120              79         4\n",
       "196         197  Female   45                 126              28         2\n",
       "197         198    Male   32                 126              74         4\n",
       "198         199    Male   32                 137              18         3\n",
       "199         200    Male   30                 137              83         4\n",
       "\n",
       "[200 rows x 6 columns]"
      ]
     },
     "execution_count": 30,
     "metadata": {},
     "output_type": "execute_result"
    }
   ],
   "source": [
    "new_df = df.copy()\n",
    "new_df['clusters'] = y_pred\n",
    "new_df"
   ]
  },
  {
   "cell_type": "code",
   "execution_count": 33,
   "id": "fc12aac0",
   "metadata": {},
   "outputs": [
    {
     "data": {
      "image/png": "[encoded data removed]",
      "text/plain": [
       "<Figure size 1000x750 with 1 Axes>"
      ]
     },
     "metadata": {
      "needs_background": "light"
     },
     "output_type": "display_data"
    }
   ],
   "source": [
    "plt.scatter(new_df['Age'], new_df['Spending_Score'], c= new_df['clusters'], cmap = 'plasma')\n",
    "plt.xlabel('Age')\n",
    "plt.ylabel('Spending Score')\n",
    "plt.title('Clusters')\n",
    "plt.show()"
   ]
  },
  {
   "cell_type": "markdown",
   "id": "7fbdeb1a",
   "metadata": {},
   "source": [
    "##### Implementing KNN with other columns"
   ]
  },
  {
   "cell_type": "code",
   "execution_count": 34,
   "id": "3138ef52",
   "metadata": {},
   "outputs": [
    {
     "data": {
      "text/html": [
       "<div>\n",
       "<style scoped>\n",
       "    .dataframe tbody tr th:only-of-type {\n",
       "        vertical-align: middle;\n",
       "    }\n",
       "\n",
       "    .dataframe tbody tr th {\n",
       "        vertical-align: top;\n",
       "    }\n",
       "\n",
       "    .dataframe thead th {\n",
       "        text-align: right;\n",
       "    }\n",
       "</style>\n",
       "<table border=\"1\" class=\"dataframe\">\n",
       "  <thead>\n",
       "    <tr style=\"text-align: right;\">\n",
       "      <th></th>\n",
       "      <th>CustomerID</th>\n",
       "      <th>Genre</th>\n",
       "      <th>Age</th>\n",
       "      <th>Annual_Income_(k$)</th>\n",
       "      <th>Spending_Score</th>\n",
       "    </tr>\n",
       "  </thead>\n",
       "  <tbody>\n",
       "    <tr>\n",
       "      <th>0</th>\n",
       "      <td>1</td>\n",
       "      <td>Male</td>\n",
       "      <td>19</td>\n",
       "      <td>15</td>\n",
       "      <td>39</td>\n",
       "    </tr>\n",
       "    <tr>\n",
       "      <th>1</th>\n",
       "      <td>2</td>\n",
       "      <td>Male</td>\n",
       "      <td>21</td>\n",
       "      <td>15</td>\n",
       "      <td>81</td>\n",
       "    </tr>\n",
       "    <tr>\n",
       "      <th>2</th>\n",
       "      <td>3</td>\n",
       "      <td>Female</td>\n",
       "      <td>20</td>\n",
       "      <td>16</td>\n",
       "      <td>6</td>\n",
       "    </tr>\n",
       "    <tr>\n",
       "      <th>3</th>\n",
       "      <td>4</td>\n",
       "      <td>Female</td>\n",
       "      <td>23</td>\n",
       "      <td>16</td>\n",
       "      <td>77</td>\n",
       "    </tr>\n",
       "    <tr>\n",
       "      <th>4</th>\n",
       "      <td>5</td>\n",
       "      <td>Female</td>\n",
       "      <td>31</td>\n",
       "      <td>17</td>\n",
       "      <td>40</td>\n",
       "    </tr>\n",
       "  </tbody>\n",
       "</table>\n",
       "</div>"
      ],
      "text/plain": [
       "   CustomerID   Genre  Age  Annual_Income_(k$)  Spending_Score\n",
       "0           1    Male   19                  15              39\n",
       "1           2    Male   21                  15              81\n",
       "2           3  Female   20                  16               6\n",
       "3           4  Female   23                  16              77\n",
       "4           5  Female   31                  17              40"
      ]
     },
     "execution_count": 34,
     "metadata": {},
     "output_type": "execute_result"
    }
   ],
   "source": [
    "df.head()"
   ]
  },
  {
   "cell_type": "code",
   "execution_count": 37,
   "id": "4b7c9345",
   "metadata": {},
   "outputs": [
    {
     "data": {
      "text/html": [
       "<div>\n",
       "<style scoped>\n",
       "    .dataframe tbody tr th:only-of-type {\n",
       "        vertical-align: middle;\n",
       "    }\n",
       "\n",
       "    .dataframe tbody tr th {\n",
       "        vertical-align: top;\n",
       "    }\n",
       "\n",
       "    .dataframe thead th {\n",
       "        text-align: right;\n",
       "    }\n",
       "</style>\n",
       "<table border=\"1\" class=\"dataframe\">\n",
       "  <thead>\n",
       "    <tr style=\"text-align: right;\">\n",
       "      <th></th>\n",
       "      <th>Annual_Income_(k$)</th>\n",
       "      <th>Spending_Score</th>\n",
       "    </tr>\n",
       "  </thead>\n",
       "  <tbody>\n",
       "    <tr>\n",
       "      <th>0</th>\n",
       "      <td>15</td>\n",
       "      <td>39</td>\n",
       "    </tr>\n",
       "    <tr>\n",
       "      <th>1</th>\n",
       "      <td>15</td>\n",
       "      <td>81</td>\n",
       "    </tr>\n",
       "    <tr>\n",
       "      <th>2</th>\n",
       "      <td>16</td>\n",
       "      <td>6</td>\n",
       "    </tr>\n",
       "    <tr>\n",
       "      <th>3</th>\n",
       "      <td>16</td>\n",
       "      <td>77</td>\n",
       "    </tr>\n",
       "    <tr>\n",
       "      <th>4</th>\n",
       "      <td>17</td>\n",
       "      <td>40</td>\n",
       "    </tr>\n",
       "    <tr>\n",
       "      <th>...</th>\n",
       "      <td>...</td>\n",
       "      <td>...</td>\n",
       "    </tr>\n",
       "    <tr>\n",
       "      <th>195</th>\n",
       "      <td>120</td>\n",
       "      <td>79</td>\n",
       "    </tr>\n",
       "    <tr>\n",
       "      <th>196</th>\n",
       "      <td>126</td>\n",
       "      <td>28</td>\n",
       "    </tr>\n",
       "    <tr>\n",
       "      <th>197</th>\n",
       "      <td>126</td>\n",
       "      <td>74</td>\n",
       "    </tr>\n",
       "    <tr>\n",
       "      <th>198</th>\n",
       "      <td>137</td>\n",
       "      <td>18</td>\n",
       "    </tr>\n",
       "    <tr>\n",
       "      <th>199</th>\n",
       "      <td>137</td>\n",
       "      <td>83</td>\n",
       "    </tr>\n",
       "  </tbody>\n",
       "</table>\n",
       "<p>200 rows × 2 columns</p>\n",
       "</div>"
      ],
      "text/plain": [
       "     Annual_Income_(k$)  Spending_Score\n",
       "0                    15              39\n",
       "1                    15              81\n",
       "2                    16               6\n",
       "3                    16              77\n",
       "4                    17              40\n",
       "..                  ...             ...\n",
       "195                 120              79\n",
       "196                 126              28\n",
       "197                 126              74\n",
       "198                 137              18\n",
       "199                 137              83\n",
       "\n",
       "[200 rows x 2 columns]"
      ]
     },
     "execution_count": 37,
     "metadata": {},
     "output_type": "execute_result"
    }
   ],
   "source": [
    "X2 = df.iloc[:, [3,4]]\n",
    "X2"
   ]
  },
  {
   "cell_type": "code",
   "execution_count": 42,
   "id": "6b57fd6f",
   "metadata": {},
   "outputs": [
    {
     "data": {
      "text/html": [
       "<div>\n",
       "<style scoped>\n",
       "    .dataframe tbody tr th:only-of-type {\n",
       "        vertical-align: middle;\n",
       "    }\n",
       "\n",
       "    .dataframe tbody tr th {\n",
       "        vertical-align: top;\n",
       "    }\n",
       "\n",
       "    .dataframe thead th {\n",
       "        text-align: right;\n",
       "    }\n",
       "</style>\n",
       "<table border=\"1\" class=\"dataframe\">\n",
       "  <thead>\n",
       "    <tr style=\"text-align: right;\">\n",
       "      <th></th>\n",
       "      <th>CustomerID</th>\n",
       "      <th>Genre</th>\n",
       "      <th>Age</th>\n",
       "      <th>Annual_income</th>\n",
       "      <th>Spending_Score</th>\n",
       "    </tr>\n",
       "  </thead>\n",
       "  <tbody>\n",
       "    <tr>\n",
       "      <th>0</th>\n",
       "      <td>1</td>\n",
       "      <td>Male</td>\n",
       "      <td>19</td>\n",
       "      <td>15</td>\n",
       "      <td>39</td>\n",
       "    </tr>\n",
       "    <tr>\n",
       "      <th>1</th>\n",
       "      <td>2</td>\n",
       "      <td>Male</td>\n",
       "      <td>21</td>\n",
       "      <td>15</td>\n",
       "      <td>81</td>\n",
       "    </tr>\n",
       "    <tr>\n",
       "      <th>2</th>\n",
       "      <td>3</td>\n",
       "      <td>Female</td>\n",
       "      <td>20</td>\n",
       "      <td>16</td>\n",
       "      <td>6</td>\n",
       "    </tr>\n",
       "    <tr>\n",
       "      <th>3</th>\n",
       "      <td>4</td>\n",
       "      <td>Female</td>\n",
       "      <td>23</td>\n",
       "      <td>16</td>\n",
       "      <td>77</td>\n",
       "    </tr>\n",
       "    <tr>\n",
       "      <th>4</th>\n",
       "      <td>5</td>\n",
       "      <td>Female</td>\n",
       "      <td>31</td>\n",
       "      <td>17</td>\n",
       "      <td>40</td>\n",
       "    </tr>\n",
       "    <tr>\n",
       "      <th>...</th>\n",
       "      <td>...</td>\n",
       "      <td>...</td>\n",
       "      <td>...</td>\n",
       "      <td>...</td>\n",
       "      <td>...</td>\n",
       "    </tr>\n",
       "    <tr>\n",
       "      <th>195</th>\n",
       "      <td>196</td>\n",
       "      <td>Female</td>\n",
       "      <td>35</td>\n",
       "      <td>120</td>\n",
       "      <td>79</td>\n",
       "    </tr>\n",
       "    <tr>\n",
       "      <th>196</th>\n",
       "      <td>197</td>\n",
       "      <td>Female</td>\n",
       "      <td>45</td>\n",
       "      <td>126</td>\n",
       "      <td>28</td>\n",
       "    </tr>\n",
       "    <tr>\n",
       "      <th>197</th>\n",
       "      <td>198</td>\n",
       "      <td>Male</td>\n",
       "      <td>32</td>\n",
       "      <td>126</td>\n",
       "      <td>74</td>\n",
       "    </tr>\n",
       "    <tr>\n",
       "      <th>198</th>\n",
       "      <td>199</td>\n",
       "      <td>Male</td>\n",
       "      <td>32</td>\n",
       "      <td>137</td>\n",
       "      <td>18</td>\n",
       "    </tr>\n",
       "    <tr>\n",
       "      <th>199</th>\n",
       "      <td>200</td>\n",
       "      <td>Male</td>\n",
       "      <td>30</td>\n",
       "      <td>137</td>\n",
       "      <td>83</td>\n",
       "    </tr>\n",
       "  </tbody>\n",
       "</table>\n",
       "<p>200 rows × 5 columns</p>\n",
       "</div>"
      ],
      "text/plain": [
       "     CustomerID   Genre  Age  Annual_income  Spending_Score\n",
       "0             1    Male   19             15              39\n",
       "1             2    Male   21             15              81\n",
       "2             3  Female   20             16               6\n",
       "3             4  Female   23             16              77\n",
       "4             5  Female   31             17              40\n",
       "..          ...     ...  ...            ...             ...\n",
       "195         196  Female   35            120              79\n",
       "196         197  Female   45            126              28\n",
       "197         198    Male   32            126              74\n",
       "198         199    Male   32            137              18\n",
       "199         200    Male   30            137              83\n",
       "\n",
       "[200 rows x 5 columns]"
      ]
     },
     "execution_count": 42,
     "metadata": {},
     "output_type": "execute_result"
    }
   ],
   "source": [
    "df = df.rename(columns = {'Annual_Income_(k$)':'Annual_income'})\n",
    "df"
   ]
  },
  {
   "cell_type": "code",
   "execution_count": 44,
   "id": "66962f87",
   "metadata": {},
   "outputs": [
    {
     "data": {
      "text/plain": [
       "<matplotlib.collections.PathCollection at 0x226c8e53df0>"
      ]
     },
     "execution_count": 44,
     "metadata": {},
     "output_type": "execute_result"
    },
    {
     "data": {
      "image/png": "[encoded data removed]",
      "text/plain": [
       "<Figure size 1000x750 with 1 Axes>"
      ]
     },
     "metadata": {
      "needs_background": "light"
     },
     "output_type": "display_data"
    }
   ],
   "source": [
    "plt.scatter(df['Annual_income'], df['Spending_Score'])"
   ]
  },
  {
   "cell_type": "code",
   "execution_count": 48,
   "id": "27cffed2",
   "metadata": {},
   "outputs": [
    {
     "name": "stderr",
     "output_type": "stream",
     "text": [
      "C:\\Users\\kawba\\anaconda3\\lib\\site-packages\\sklearn\\cluster\\_kmeans.py:881: UserWarning: KMeans is known to have a memory leak on Windows with MKL, when there are less chunks than available threads. You can avoid it by setting the environment variable OMP_NUM_THREADS=1.\n",
      "  warnings.warn(\n"
     ]
    }
   ],
   "source": [
    "elbow = []\n",
    "for i in range (1, 20):\n",
    "    kmeans = KMeans(n_clusters = i, init = 'k-means++', random_state = 10)\n",
    "    kmeans.fit(X2)\n",
    "    elbow.append(kmeans.inertia_)"
   ]
  },
  {
   "cell_type": "code",
   "execution_count": 49,
   "id": "a5038a50",
   "metadata": {},
   "outputs": [
    {
     "name": "stderr",
     "output_type": "stream",
     "text": [
      "C:\\Users\\kawba\\anaconda3\\lib\\site-packages\\seaborn\\_decorators.py:36: FutureWarning: Pass the following variables as keyword args: x, y. From version 0.12, the only valid positional argument will be `data`, and passing other arguments without an explicit keyword will result in an error or misinterpretation.\n",
      "  warnings.warn(\n"
     ]
    },
    {
     "data": {
      "text/plain": [
       "<AxesSubplot:>"
      ]
     },
     "execution_count": 49,
     "metadata": {},
     "output_type": "execute_result"
    },
    {
     "data": {
      "image/png": "[encoded data removed]",
      "text/plain": [
       "<Figure size 1000x750 with 1 Axes>"
      ]
     },
     "metadata": {
      "needs_background": "light"
     },
     "output_type": "display_data"
    }
   ],
   "source": [
    "sns.lineplot(range(1,20), elbow, color = 'grey')"
   ]
  },
  {
   "cell_type": "markdown",
   "id": "d50d6772",
   "metadata": {},
   "source": [
    "no of clusters is 5"
   ]
  },
  {
   "cell_type": "code",
   "execution_count": 62,
   "id": "ff9dabd8",
   "metadata": {},
   "outputs": [
    {
     "data": {
      "text/plain": [
       "KMeans(n_clusters=5, random_state=101)"
      ]
     },
     "execution_count": 62,
     "metadata": {},
     "output_type": "execute_result"
    }
   ],
   "source": [
    "model = KMeans(n_clusters = 5, init= 'k-means++', random_state = 101)\n",
    "model.fit(X2)"
   ]
  },
  {
   "cell_type": "code",
   "execution_count": 63,
   "id": "0379837d",
   "metadata": {},
   "outputs": [],
   "source": [
    "y2_pred = model.fit_predict(X2)"
   ]
  },
  {
   "cell_type": "code",
   "execution_count": 64,
   "id": "ffd148fd",
   "metadata": {},
   "outputs": [
    {
     "data": {
      "text/html": [
       "<div>\n",
       "<style scoped>\n",
       "    .dataframe tbody tr th:only-of-type {\n",
       "        vertical-align: middle;\n",
       "    }\n",
       "\n",
       "    .dataframe tbody tr th {\n",
       "        vertical-align: top;\n",
       "    }\n",
       "\n",
       "    .dataframe thead th {\n",
       "        text-align: right;\n",
       "    }\n",
       "</style>\n",
       "<table border=\"1\" class=\"dataframe\">\n",
       "  <thead>\n",
       "    <tr style=\"text-align: right;\">\n",
       "      <th></th>\n",
       "      <th>CustomerID</th>\n",
       "      <th>Genre</th>\n",
       "      <th>Age</th>\n",
       "      <th>Annual_income</th>\n",
       "      <th>Spending_Score</th>\n",
       "      <th>clusters</th>\n",
       "    </tr>\n",
       "  </thead>\n",
       "  <tbody>\n",
       "    <tr>\n",
       "      <th>0</th>\n",
       "      <td>1</td>\n",
       "      <td>Male</td>\n",
       "      <td>19</td>\n",
       "      <td>15</td>\n",
       "      <td>39</td>\n",
       "      <td>0</td>\n",
       "    </tr>\n",
       "    <tr>\n",
       "      <th>1</th>\n",
       "      <td>2</td>\n",
       "      <td>Male</td>\n",
       "      <td>21</td>\n",
       "      <td>15</td>\n",
       "      <td>81</td>\n",
       "      <td>4</td>\n",
       "    </tr>\n",
       "    <tr>\n",
       "      <th>2</th>\n",
       "      <td>3</td>\n",
       "      <td>Female</td>\n",
       "      <td>20</td>\n",
       "      <td>16</td>\n",
       "      <td>6</td>\n",
       "      <td>3</td>\n",
       "    </tr>\n",
       "    <tr>\n",
       "      <th>3</th>\n",
       "      <td>4</td>\n",
       "      <td>Female</td>\n",
       "      <td>23</td>\n",
       "      <td>16</td>\n",
       "      <td>77</td>\n",
       "      <td>4</td>\n",
       "    </tr>\n",
       "    <tr>\n",
       "      <th>4</th>\n",
       "      <td>5</td>\n",
       "      <td>Female</td>\n",
       "      <td>31</td>\n",
       "      <td>17</td>\n",
       "      <td>40</td>\n",
       "      <td>0</td>\n",
       "    </tr>\n",
       "    <tr>\n",
       "      <th>...</th>\n",
       "      <td>...</td>\n",
       "      <td>...</td>\n",
       "      <td>...</td>\n",
       "      <td>...</td>\n",
       "      <td>...</td>\n",
       "      <td>...</td>\n",
       "    </tr>\n",
       "    <tr>\n",
       "      <th>195</th>\n",
       "      <td>196</td>\n",
       "      <td>Female</td>\n",
       "      <td>35</td>\n",
       "      <td>120</td>\n",
       "      <td>79</td>\n",
       "      <td>4</td>\n",
       "    </tr>\n",
       "    <tr>\n",
       "      <th>196</th>\n",
       "      <td>197</td>\n",
       "      <td>Female</td>\n",
       "      <td>45</td>\n",
       "      <td>126</td>\n",
       "      <td>28</td>\n",
       "      <td>2</td>\n",
       "    </tr>\n",
       "    <tr>\n",
       "      <th>197</th>\n",
       "      <td>198</td>\n",
       "      <td>Male</td>\n",
       "      <td>32</td>\n",
       "      <td>126</td>\n",
       "      <td>74</td>\n",
       "      <td>4</td>\n",
       "    </tr>\n",
       "    <tr>\n",
       "      <th>198</th>\n",
       "      <td>199</td>\n",
       "      <td>Male</td>\n",
       "      <td>32</td>\n",
       "      <td>137</td>\n",
       "      <td>18</td>\n",
       "      <td>3</td>\n",
       "    </tr>\n",
       "    <tr>\n",
       "      <th>199</th>\n",
       "      <td>200</td>\n",
       "      <td>Male</td>\n",
       "      <td>30</td>\n",
       "      <td>137</td>\n",
       "      <td>83</td>\n",
       "      <td>4</td>\n",
       "    </tr>\n",
       "  </tbody>\n",
       "</table>\n",
       "<p>200 rows × 6 columns</p>\n",
       "</div>"
      ],
      "text/plain": [
       "     CustomerID   Genre  Age  Annual_income  Spending_Score  clusters\n",
       "0             1    Male   19             15              39         0\n",
       "1             2    Male   21             15              81         4\n",
       "2             3  Female   20             16               6         3\n",
       "3             4  Female   23             16              77         4\n",
       "4             5  Female   31             17              40         0\n",
       "..          ...     ...  ...            ...             ...       ...\n",
       "195         196  Female   35            120              79         4\n",
       "196         197  Female   45            126              28         2\n",
       "197         198    Male   32            126              74         4\n",
       "198         199    Male   32            137              18         3\n",
       "199         200    Male   30            137              83         4\n",
       "\n",
       "[200 rows x 6 columns]"
      ]
     },
     "execution_count": 64,
     "metadata": {},
     "output_type": "execute_result"
    }
   ],
   "source": [
    "another_df = df.copy()\n",
    "another_df['clusters'] = y_pred\n",
    "another_df"
   ]
  },
  {
   "cell_type": "code",
   "execution_count": 65,
   "id": "1afbb770",
   "metadata": {},
   "outputs": [
    {
     "data": {
      "text/plain": [
       "array([0, 4, 3, 2, 1])"
      ]
     },
     "execution_count": 65,
     "metadata": {},
     "output_type": "execute_result"
    }
   ],
   "source": [
    "another_df['clusters'].unique()"
   ]
  },
  {
   "cell_type": "code",
   "execution_count": 66,
   "id": "9bb8147f",
   "metadata": {},
   "outputs": [
    {
     "data": {
      "image/png": "[encoded data removed]",
      "text/plain": [
       "<Figure size 1000x750 with 1 Axes>"
      ]
     },
     "metadata": {
      "needs_background": "light"
     },
     "output_type": "display_data"
    }
   ],
   "source": [
    "plt.scatter(another_df['Annual_income'], another_df['Spending_Score'], c= another_df['clusters'], cmap = 'plasma')\n",
    "plt.xlabel('Annual income')\n",
    "plt.ylabel('Spending Score')\n",
    "plt.title('Clusters')\n",
    "plt.show()"
   ]
  },
  {
   "cell_type": "code",
   "execution_count": null,
   "id": "58cef4be",
   "metadata": {},
   "outputs": [],
   "source": []
  }
 ],
 "metadata": {
  "kernelspec": {
   "display_name": "Python 3",
   "language": "python",
   "name": "python3"
  },
  "language_info": {
   "codemirror_mode": {
    "name": "ipython",
    "version": 3
   },
   "file_extension": ".py",
   "mimetype": "text/x-python",
   "name": "python",
   "nbconvert_exporter": "python",
   "pygments_lexer": "ipython3",
   "version": "3.8.8"
  }
 },
 "nbformat": 4,
 "nbformat_minor": 5
}
