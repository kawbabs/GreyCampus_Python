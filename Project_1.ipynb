{
 "cells": [
  {
   "cell_type": "code",
   "execution_count": 78,
   "metadata": {},
   "outputs": [],
   "source": [
    "#A function to take user input\n",
    "def user_input():\n",
    "    number = eval(input('Enter the number: '))\n",
    "    return number "
   ]
  },
  {
   "cell_type": "code",
   "execution_count": 95,
   "metadata": {},
   "outputs": [],
   "source": [
    "# a function to check if the user input is prime\n",
    "#it uses both for loop and if statement\n",
    "def is_prime():\n",
    "    y = user_input()\n",
    "    for x in range(2, y):\n",
    "        if (y%x)==0:\n",
    "            print(y, 'is not prime number')\n",
    "            break\n",
    "    else:\n",
    "        print(y, 'is a prime number')\n",
    "        "
   ]
  },
  {
   "cell_type": "code",
   "execution_count": 96,
   "metadata": {},
   "outputs": [
    {
     "name": "stdout",
     "output_type": "stream",
     "text": [
      "Enter the number: 8\n",
      "8 is not prime number\n"
     ]
    }
   ],
   "source": [
    "is_prime()"
   ]
  },
  {
   "cell_type": "code",
   "execution_count": 76,
   "metadata": {},
   "outputs": [],
   "source": [
    "#a function to check if a number is prime, with default value of 10\n",
    "def is_prime2(y=10):\n",
    "    for x in range(2, y):\n",
    "        if (y%x)==0:\n",
    "            print(y, 'is not prime number')\n",
    "            break\n",
    "    else:\n",
    "        print(y, 'is a prime number')\n",
    "       "
   ]
  },
  {
   "cell_type": "code",
   "execution_count": 77,
   "metadata": {},
   "outputs": [
    {
     "name": "stdout",
     "output_type": "stream",
     "text": [
      "10 is not prime number\n"
     ]
    }
   ],
   "source": [
    "is_prime2()"
   ]
  },
  {
   "cell_type": "code",
   "execution_count": null,
   "metadata": {},
   "outputs": [],
   "source": []
  }
 ],
 "metadata": {
  "kernelspec": {
   "display_name": "Python 3",
   "language": "python",
   "name": "python3"
  },
  "language_info": {
   "codemirror_mode": {
    "name": "ipython",
    "version": 3
   },
   "file_extension": ".py",
   "mimetype": "text/x-python",
   "name": "python",
   "nbconvert_exporter": "python",
   "pygments_lexer": "ipython3",
   "version": "3.8.3"
  }
 },
 "nbformat": 4,
 "nbformat_minor": 4
}
