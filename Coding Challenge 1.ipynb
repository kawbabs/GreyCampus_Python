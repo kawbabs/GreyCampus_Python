{
 "cells": [
  {
   "cell_type": "code",
   "execution_count": 2,
   "metadata": {},
   "outputs": [
    {
     "name": "stdout",
     "output_type": "stream",
     "text": [
      "Rolling the dice...\n",
      "The value is....\n",
      "1\n",
      "Roll the dices again?y\n",
      "Rolling the dice...\n",
      "The value is....\n",
      "5\n",
      "Roll the dices again?n\n"
     ]
    }
   ],
   "source": [
    "import random\n",
    "\n",
    "\n",
    "roll_again = \"yes\"\n",
    "\n",
    "while roll_again == \"yes\" or roll_again. == \"y\":\n",
    "    print (\"Rolling the dice...\")\n",
    "    print (\"The value is....\")\n",
    "    print (random.randint(1, 6))\n",
    "    #print (random.randint(min, max))\n",
    "\n",
    "    roll_again = input(\"Roll the dices again?\")"
   ]
  },
  {
   "cell_type": "code",
   "execution_count": null,
   "metadata": {},
   "outputs": [],
   "source": [
    "import random\n",
    "print(\"You rolled\",random.randint(1,6))\n",
    "roll_again = input('Roll again? Y/N: ')\n",
    "while roll_again.upper()!='N':\n",
    "    if roll_again.upper() =='Y':\n",
    "        print ('You rolled', random.randint(1,6))\n",
    "    else:\n",
    "        Quit()\n",
    "    "
   ]
  },
  {
   "cell_type": "code",
   "execution_count": null,
   "metadata": {},
   "outputs": [],
   "source": []
  }
 ],
 "metadata": {
  "kernelspec": {
   "display_name": "Python 3",
   "language": "python",
   "name": "python3"
  },
  "language_info": {
   "codemirror_mode": {
    "name": "ipython",
    "version": 3
   },
   "file_extension": ".py",
   "mimetype": "text/x-python",
   "name": "python",
   "nbconvert_exporter": "python",
   "pygments_lexer": "ipython3",
   "version": "3.8.3"
  }
 },
 "nbformat": 4,
 "nbformat_minor": 4
}
